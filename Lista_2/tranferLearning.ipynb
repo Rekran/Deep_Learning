{
  "cells": [
    {
      "cell_type": "code",
      "execution_count": null,
      "metadata": {
        "id": "wp2NZssD4FOV"
      },
      "outputs": [],
      "source": [
        "import keras\n",
        "import numpy as np\n",
        "from os.path import join\n",
        "import tensorflow as tf\n",
        "import random\n",
        "import matplotlib.pyplot as plt\n",
        "from sklearn.metrics import confusion_matrix,ConfusionMatrixDisplay, classification_report"
      ]
    },
    {
      "cell_type": "code",
      "execution_count": null,
      "metadata": {
        "id": "91uX4eyj9oxZ"
      },
      "outputs": [],
      "source": [
        "def unpickle(file):\n",
        "    import pickle\n",
        "    with open(file, 'rb') as fo:\n",
        "        dict = pickle.load(fo, encoding='bytes')\n",
        "    return dict"
      ]
    },
    {
      "cell_type": "code",
      "execution_count": null,
      "metadata": {
        "colab": {
          "base_uri": "https://localhost:8080/"
        },
        "id": "LDhBp1CN9xtX",
        "outputId": "48bbd0ae-914a-4bd0-ff1a-e15e0891d919"
      },
      "outputs": [
        {
          "name": "stdout",
          "output_type": "stream",
          "text": [
            "--2024-09-19 01:55:40--  https://www.cs.toronto.edu/~kriz/cifar-10-python.tar.gz\n",
            "Resolving www.cs.toronto.edu (www.cs.toronto.edu)... 128.100.3.30\n",
            "Connecting to www.cs.toronto.edu (www.cs.toronto.edu)|128.100.3.30|:443... connected.\n",
            "HTTP request sent, awaiting response... 200 OK\n",
            "Length: 170498071 (163M) [application/x-gzip]\n",
            "Saving to: ‘cifar-10-python.tar.gz’\n",
            "\n",
            "cifar-10-python.tar 100%[===================>] 162.60M  49.0MB/s    in 3.5s    \n",
            "\n",
            "2024-09-19 01:55:44 (46.8 MB/s) - ‘cifar-10-python.tar.gz’ saved [170498071/170498071]\n",
            "\n",
            "cifar-10-batches-py/\n",
            "cifar-10-batches-py/data_batch_4\n",
            "cifar-10-batches-py/readme.html\n",
            "cifar-10-batches-py/test_batch\n",
            "cifar-10-batches-py/data_batch_3\n",
            "cifar-10-batches-py/batches.meta\n",
            "cifar-10-batches-py/data_batch_2\n",
            "cifar-10-batches-py/data_batch_5\n",
            "cifar-10-batches-py/data_batch_1\n"
          ]
        }
      ],
      "source": [
        "!wget https://www.cs.toronto.edu/~kriz/cifar-10-python.tar.gz\n",
        "!tar -xvzf cifar-10-python.tar.gz\n",
        "!rm cifar-10-python.tar.gz"
      ]
    },
    {
      "cell_type": "code",
      "execution_count": null,
      "metadata": {
        "id": "ouvkNCrp90C1"
      },
      "outputs": [],
      "source": [
        "base_dir = \"cifar-10-batches-py\""
      ]
    },
    {
      "cell_type": "code",
      "execution_count": null,
      "metadata": {
        "id": "3kM3lZa090nJ"
      },
      "outputs": [],
      "source": [
        "data_train = []\n",
        "labels_train = []\n",
        "for i in range(1,6):\n",
        "    data_dir = \"data_batch_\"+str(i)\n",
        "    data_dict = unpickle(join(base_dir,data_dir))\n",
        "    data_train.append(data_dict[b'data'])\n",
        "    labels_train.append(data_dict[b'labels'])\n",
        "\n",
        "data_train = np.concatenate(data_train)\n",
        "labels_train = np.concatenate(labels_train)"
      ]
    },
    {
      "cell_type": "code",
      "execution_count": null,
      "metadata": {
        "id": "ZB7r6i1n97y1"
      },
      "outputs": [],
      "source": [
        "data_test_dic = unpickle(join(base_dir,\"test_batch\"))\n",
        "data_test = data_test_dic[b'data']\n",
        "labels_test = data_test_dic[b'labels']\n",
        "\n",
        "data_test = np.array(data_test)\n",
        "labels_test = np.array(labels_test)"
      ]
    },
    {
      "cell_type": "code",
      "execution_count": null,
      "metadata": {
        "id": "FU6vQAd599io"
      },
      "outputs": [],
      "source": [
        "data_train = data_train.reshape((50000, 3, 32, 32))\n",
        "data_test = data_test.reshape((10000, 3, 32, 32))\n",
        "\n",
        "data_train = data_train.transpose((0, 2, 3, 1))\n",
        "data_test = data_test.transpose((0, 2, 3, 1))"
      ]
    },
    {
      "cell_type": "code",
      "execution_count": null,
      "metadata": {
        "id": "n3Dmab3f-akB"
      },
      "outputs": [],
      "source": [
        "labels_train =  keras.utils.to_categorical(labels_train)\n",
        "labels_test =  keras.utils.to_categorical(labels_test)"
      ]
    },
    {
      "cell_type": "code",
      "execution_count": null,
      "metadata": {
        "id": "kZW0BhMf82ic"
      },
      "outputs": [],
      "source": [
        "inputs = keras.Input(shape=(32, 32, 3))\n",
        "\n",
        "vgg16 = keras.applications.VGG19(include_top=False, weights='imagenet', input_tensor=inputs)"
      ]
    },
    {
      "cell_type": "code",
      "execution_count": null,
      "metadata": {
        "id": "gj-IWXRw7JgC"
      },
      "outputs": [],
      "source": [
        "for layer in vgg16.layers:\n",
        "   layer.trainable = False"
      ]
    },
    {
      "cell_type": "code",
      "execution_count": null,
      "metadata": {
        "colab": {
          "background_save": true
        },
        "id": "QY1vbsWflMW5"
      },
      "outputs": [],
      "source": [
        "model_adam = keras.Sequential([\n",
        "    vgg16,\n",
        "    keras.layers.Flatten(),\n",
        "      keras.layers.Dense(10, activation='softmax')\n",
        "])"
      ]
    },
    {
      "cell_type": "code",
      "execution_count": null,
      "metadata": {
        "id": "Yo_PxlgrpU5b"
      },
      "outputs": [],
      "source": [
        "epochs=50\n",
        "learn_rate=0.001\n",
        "\n",
        "adam=keras.optimizers.AdamW(learning_rate=learn_rate)\n",
        "model_adam.compile(optimizer=adam,loss='categorical_crossentropy',metrics=['accuracy'])"
      ]
    },
    {
      "cell_type": "code",
      "execution_count": null,
      "metadata": {
        "id": "_1PDEG6UtCUr"
      },
      "outputs": [],
      "source": [
        "\n",
        "history_model_adam = model_adam.fit(data_train, labels_train, epochs=50, batch_size=128, validation_split=0.2)\n"
      ]
    },
    {
      "cell_type": "code",
      "execution_count": null,
      "metadata": {
        "id": "5K4b1y3T7NVV"
      },
      "outputs": [],
      "source": [
        "# Evaluate the model_cnn\n",
        "test_loss, test_acc = model_adam.evaluate(data_test, labels_test)\n",
        "print('Test accuracy:', test_acc)"
      ]
    },
    {
      "cell_type": "code",
      "execution_count": null,
      "metadata": {
        "id": "-4nq55Oq1Iz9"
      },
      "outputs": [],
      "source": [
        "plt.figure(figsize=(20, 5))\n",
        "\n",
        "# Primeiro gráfico (Loss)\n",
        "plt.subplot(1, 2, 1)\n",
        "plt.plot(history_model_adam.history['loss'])\n",
        "plt.plot(history_model_adam.history['val_loss'])\n",
        "plt.title('Loss do Modelo', color='white')  # Cor do título\n",
        "plt.ylabel('Loss', color='white')           # Cor do label do eixo Y\n",
        "plt.xlabel('Épocas', color='white')         # Cor do label do eixo X\n",
        "plt.legend(['Train', 'Val'], loc='upper left')\n",
        "\n",
        "# Mudar cor dos eixos para branco\n",
        "ax = plt.gca()\n",
        "ax.set_facecolor('black')\n",
        "ax.spines['bottom'].set_color('white')\n",
        "ax.spines['top'].set_color('white')\n",
        "ax.spines['right'].set_color('white')\n",
        "ax.spines['left'].set_color('white')\n",
        "ax.tick_params(axis='x', colors='white')\n",
        "ax.tick_params(axis='y', colors='white')\n",
        "\n",
        "# Segundo gráfico (Accuracy)\n",
        "plt.subplot(1, 2, 2)\n",
        "plt.plot(history_model_adam.history['accuracy'])\n",
        "plt.plot(history_model_adam.history['val_accuracy'])\n",
        "plt.title('Acurácia do Modelo', color='white')\n",
        "plt.ylabel('Acurácia', color='white')\n",
        "plt.xlabel('Épocas', color='white')\n",
        "plt.legend(['Train', 'Val'], loc='upper left')\n",
        "\n",
        "# Mudar cor dos eixos para branco\n",
        "ax = plt.gca()\n",
        "ax.set_facecolor('black')\n",
        "ax.spines['bottom'].set_color('white')\n",
        "ax.spines['top'].set_color('white')\n",
        "ax.spines['right'].set_color('white')\n",
        "ax.spines['left'].set_color('white')\n",
        "ax.tick_params(axis='x', colors='white')\n",
        "ax.tick_params(axis='y', colors='white')\n",
        "\n",
        "# Alterar a cor do fundo da figura principal\n",
        "plt.gcf().set_facecolor('black')\n",
        "\n",
        "plt.show()\n"
      ]
    },
    {
      "cell_type": "code",
      "execution_count": null,
      "metadata": {
        "id": "5WetGZM-glcR"
      },
      "outputs": [],
      "source": []
    }
  ],
  "metadata": {
    "accelerator": "GPU",
    "colab": {
      "gpuType": "T4",
      "provenance": []
    },
    "kernelspec": {
      "display_name": "Python 3",
      "name": "python3"
    },
    "language_info": {
      "name": "python"
    }
  },
  "nbformat": 4,
  "nbformat_minor": 0
}